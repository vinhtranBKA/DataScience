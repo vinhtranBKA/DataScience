{
 "cells": [
  {
   "cell_type": "markdown",
   "id": "02adfba2",
   "metadata": {
    "papermill": {
     "duration": 0.004521,
     "end_time": "2023-01-06T02:13:29.356880",
     "exception": false,
     "start_time": "2023-01-06T02:13:29.352359",
     "status": "completed"
    },
    "tags": []
   },
   "source": [
    "#  Data Argument"
   ]
  },
  {
   "cell_type": "code",
   "execution_count": 1,
   "id": "5b8139de",
   "metadata": {
    "execution": {
     "iopub.execute_input": "2023-01-06T02:13:29.366779Z",
     "iopub.status.busy": "2023-01-06T02:13:29.366271Z",
     "iopub.status.idle": "2023-01-06T02:13:32.396293Z",
     "shell.execute_reply": "2023-01-06T02:13:32.394453Z"
    },
    "papermill": {
     "duration": 3.039271,
     "end_time": "2023-01-06T02:13:32.399869",
     "exception": false,
     "start_time": "2023-01-06T02:13:29.360598",
     "status": "completed"
    },
    "tags": []
   },
   "outputs": [],
   "source": [
    "import torch\n",
    "import pandas as pd\n",
    "import numpy as np\n",
    "from torch import nn\n",
    "import math\n",
    "import matplotlib.pyplot as plt\n",
    "from sklearn.preprocessing import MinMaxScaler"
   ]
  },
  {
   "cell_type": "markdown",
   "id": "03a0fed6",
   "metadata": {
    "papermill": {
     "duration": 0.003696,
     "end_time": "2023-01-06T02:13:32.407904",
     "exception": false,
     "start_time": "2023-01-06T02:13:32.404208",
     "status": "completed"
    },
    "tags": []
   },
   "source": [
    "# Link: \n",
    "https://realpython.com/generative-adversarial-networks/#what-are-generative-adversarial-networks\n",
    "https://phamdinhkhanh.github.io/2020/07/13/GAN.html#21-m%C3%B4-h%C3%ACnh-hi%E1%BB%87n-explicit-model"
   ]
  },
  {
   "cell_type": "code",
   "execution_count": 2,
   "id": "d83923e4",
   "metadata": {
    "execution": {
     "iopub.execute_input": "2023-01-06T02:13:32.417771Z",
     "iopub.status.busy": "2023-01-06T02:13:32.417163Z",
     "iopub.status.idle": "2023-01-06T02:13:32.873631Z",
     "shell.execute_reply": "2023-01-06T02:13:32.872333Z"
    },
    "papermill": {
     "duration": 0.464659,
     "end_time": "2023-01-06T02:13:32.876454",
     "exception": false,
     "start_time": "2023-01-06T02:13:32.411795",
     "status": "completed"
    },
    "tags": []
   },
   "outputs": [],
   "source": [
    "dataset = pd.read_excel('/kaggle/input/ebs-new/EBS_newData.xlsx')\n",
    "#dataset = dataset.drop('Unnamed: 0', axis = 1)\n",
    "scaler = MinMaxScaler()\n",
    "scaler.fit(dataset)\n",
    "data_norm = scaler.transform(dataset)"
   ]
  },
  {
   "cell_type": "code",
   "execution_count": 3,
   "id": "72fe5599",
   "metadata": {
    "execution": {
     "iopub.execute_input": "2023-01-06T02:13:32.886577Z",
     "iopub.status.busy": "2023-01-06T02:13:32.886149Z",
     "iopub.status.idle": "2023-01-06T02:13:32.892878Z",
     "shell.execute_reply": "2023-01-06T02:13:32.890655Z"
    },
    "papermill": {
     "duration": 0.015668,
     "end_time": "2023-01-06T02:13:32.896265",
     "exception": false,
     "start_time": "2023-01-06T02:13:32.880597",
     "status": "completed"
    },
    "tags": []
   },
   "outputs": [],
   "source": [
    "dataset_array = np.array(data_norm)\n",
    "dataset_tensor = torch.Tensor(data_norm)"
   ]
  },
  {
   "cell_type": "code",
   "execution_count": 4,
   "id": "8163c9f5",
   "metadata": {
    "execution": {
     "iopub.execute_input": "2023-01-06T02:13:32.905819Z",
     "iopub.status.busy": "2023-01-06T02:13:32.905375Z",
     "iopub.status.idle": "2023-01-06T02:13:32.921030Z",
     "shell.execute_reply": "2023-01-06T02:13:32.918789Z"
    },
    "papermill": {
     "duration": 0.023217,
     "end_time": "2023-01-06T02:13:32.923495",
     "exception": false,
     "start_time": "2023-01-06T02:13:32.900278",
     "status": "completed"
    },
    "tags": []
   },
   "outputs": [
    {
     "data": {
      "text/plain": [
       "tensor([[0.0000, 0.0000, 0.0000,  ..., 0.0000, 0.0000, 0.0000],\n",
       "        [0.0000, 0.0000, 0.0000,  ..., 0.0000, 0.0000, 0.0000],\n",
       "        [0.0000, 0.0000, 0.0000,  ..., 0.0000, 0.0000, 0.0000],\n",
       "        ...,\n",
       "        [0.0000, 0.0000, 0.9935,  ..., 0.0000, 0.6838, 0.0000],\n",
       "        [0.0000, 0.0000, 0.9884,  ..., 0.0000, 0.4676, 0.0000],\n",
       "        [0.0000, 0.0000, 0.9945,  ..., 0.0000, 0.3093, 0.0000]])"
      ]
     },
     "execution_count": 4,
     "metadata": {},
     "output_type": "execute_result"
    }
   ],
   "source": [
    "dataset_tensor"
   ]
  },
  {
   "cell_type": "code",
   "execution_count": 5,
   "id": "5eb03328",
   "metadata": {
    "execution": {
     "iopub.execute_input": "2023-01-06T02:13:32.933548Z",
     "iopub.status.busy": "2023-01-06T02:13:32.933080Z",
     "iopub.status.idle": "2023-01-06T02:13:32.940697Z",
     "shell.execute_reply": "2023-01-06T02:13:32.939997Z"
    },
    "papermill": {
     "duration": 0.015839,
     "end_time": "2023-01-06T02:13:32.943398",
     "exception": false,
     "start_time": "2023-01-06T02:13:32.927559",
     "status": "completed"
    },
    "tags": []
   },
   "outputs": [],
   "source": [
    "torch.manual_seed(111)\n",
    "batch_size = 32\n",
    "train_loader = torch.utils.data.DataLoader(dataset_tensor, batch_size=batch_size, shuffle=True)"
   ]
  },
  {
   "cell_type": "markdown",
   "id": "9b3ad7ef",
   "metadata": {
    "papermill": {
     "duration": 0.003762,
     "end_time": "2023-01-06T02:13:32.951477",
     "exception": false,
     "start_time": "2023-01-06T02:13:32.947715",
     "status": "completed"
    },
    "tags": []
   },
   "source": [
    "# Discriminator and Generator"
   ]
  },
  {
   "cell_type": "code",
   "execution_count": 6,
   "id": "94441dfe",
   "metadata": {
    "execution": {
     "iopub.execute_input": "2023-01-06T02:13:32.962354Z",
     "iopub.status.busy": "2023-01-06T02:13:32.961135Z",
     "iopub.status.idle": "2023-01-06T02:13:32.973126Z",
     "shell.execute_reply": "2023-01-06T02:13:32.971526Z"
    },
    "papermill": {
     "duration": 0.020349,
     "end_time": "2023-01-06T02:13:32.975850",
     "exception": false,
     "start_time": "2023-01-06T02:13:32.955501",
     "status": "completed"
    },
    "tags": []
   },
   "outputs": [],
   "source": [
    "class Discriminator(nn.Module):\n",
    "    def __init__(self):\n",
    "        super().__init__()\n",
    "        self.model = nn.Sequential(\n",
    "            nn.Linear(43, 64),\n",
    "            nn.ReLU(),\n",
    "            nn.Dropout(0.3),\n",
    "            nn.Linear(64, 128),\n",
    "            nn.ReLU(),\n",
    "            nn.Dropout(0.3),\n",
    "            nn.Linear(128, 64),\n",
    "            nn.ReLU(),\n",
    "            nn.Dropout(0.3),\n",
    "            nn.Linear(64, 1),\n",
    "            nn.Sigmoid())\n",
    "\n",
    "    def forward(self, x):\n",
    "        output = self.model(x)\n",
    "        return output\n",
    "class Generator(nn.Module):\n",
    "    def __init__(self):\n",
    "        super().__init__()\n",
    "        self.model = nn.Sequential(\n",
    "            nn.Linear(43, 64),\n",
    "            nn.ReLU(),\n",
    "            nn.Linear(64, 128),\n",
    "            nn.ReLU(),\n",
    "            nn.Linear(128, 64),\n",
    "            nn.ReLU(),\n",
    "            nn.Linear(64, 43))\n",
    "\n",
    "    def forward(self, x):\n",
    "        output = self.model(x)\n",
    "        return output"
   ]
  },
  {
   "cell_type": "code",
   "execution_count": 7,
   "id": "9c6f3f04",
   "metadata": {
    "execution": {
     "iopub.execute_input": "2023-01-06T02:13:32.987184Z",
     "iopub.status.busy": "2023-01-06T02:13:32.985884Z",
     "iopub.status.idle": "2023-01-06T02:13:32.998958Z",
     "shell.execute_reply": "2023-01-06T02:13:32.997691Z"
    },
    "papermill": {
     "duration": 0.021693,
     "end_time": "2023-01-06T02:13:33.001989",
     "exception": false,
     "start_time": "2023-01-06T02:13:32.980296",
     "status": "completed"
    },
    "tags": []
   },
   "outputs": [],
   "source": [
    "device = \"\"\n",
    "if torch.cuda.is_available():\n",
    "    device = torch.device(\"cuda\")\n",
    "else:\n",
    "    device = torch.device(\"cpu\")\n",
    "discriminator = Discriminator().to(device=device)\n",
    "generator = Generator().to(device=device)\n",
    "lr = 0.000001\n",
    "num_epochs = 1000\n",
    "loss_function = nn.BCELoss()\n",
    "optimizer_discriminator = torch.optim.Adam(discriminator.parameters(), lr=lr)\n",
    "optimizer_generator = torch.optim.Adam(generator.parameters(), lr=lr)"
   ]
  },
  {
   "cell_type": "markdown",
   "id": "8c8a23de",
   "metadata": {
    "papermill": {
     "duration": 0.003683,
     "end_time": "2023-01-06T02:13:33.009955",
     "exception": false,
     "start_time": "2023-01-06T02:13:33.006272",
     "status": "completed"
    },
    "tags": []
   },
   "source": [
    "# Traing model"
   ]
  },
  {
   "cell_type": "code",
   "execution_count": 8,
   "id": "66d26d6c",
   "metadata": {
    "execution": {
     "iopub.execute_input": "2023-01-06T02:13:33.020040Z",
     "iopub.status.busy": "2023-01-06T02:13:33.019539Z",
     "iopub.status.idle": "2023-01-06T02:13:37.133204Z",
     "shell.execute_reply": "2023-01-06T02:13:37.131741Z"
    },
    "papermill": {
     "duration": 4.12199,
     "end_time": "2023-01-06T02:13:37.135982",
     "exception": false,
     "start_time": "2023-01-06T02:13:33.013992",
     "status": "completed"
    },
    "tags": []
   },
   "outputs": [],
   "source": [
    "loss_D = []\n",
    "loss_G = []\n",
    "for epoch in range(num_epochs):\n",
    "    for real_samples in train_loader:\n",
    "        # Data for training the discriminator\n",
    "        real_samples_labels = torch.ones((batch_size, 1))\n",
    "        latent_space_samples = torch.randn((batch_size, 43))\n",
    "        generated_samples = generator(latent_space_samples)\n",
    "        generated_samples_labels = torch.zeros((batch_size, 1))\n",
    "        all_samples = torch.cat((real_samples, generated_samples))\n",
    "        all_samples_labels = torch.cat((real_samples_labels, generated_samples_labels))\n",
    "\n",
    "        # Training the discriminator\n",
    "        discriminator.zero_grad()\n",
    "        output_discriminator = discriminator(all_samples)\n",
    "        loss_discriminator = loss_function(output_discriminator, all_samples_labels)\n",
    "        loss_discriminator.backward()\n",
    "        optimizer_discriminator.step()\n",
    "\n",
    "        # Data for training the generator\n",
    "        latent_space_samples = torch.randn((batch_size, 43))\n",
    "\n",
    "        # Training the generator\n",
    "        generator.zero_grad()\n",
    "        generated_samples = generator(latent_space_samples)\n",
    "        output_discriminator_generated = discriminator(generated_samples)\n",
    "        loss_generator = loss_function(output_discriminator_generated, real_samples_labels)\n",
    "        loss_generator.backward()\n",
    "        optimizer_generator.step()\n",
    "\n",
    "        # Show loss\n",
    "        if epoch % 10 == 0:\n",
    "            loss_D.append(loss_discriminator.item())\n",
    "            loss_G.append(loss_generator.item())"
   ]
  },
  {
   "cell_type": "code",
   "execution_count": 9,
   "id": "9ec4c3b0",
   "metadata": {
    "execution": {
     "iopub.execute_input": "2023-01-06T02:13:37.147350Z",
     "iopub.status.busy": "2023-01-06T02:13:37.145887Z",
     "iopub.status.idle": "2023-01-06T02:13:37.479168Z",
     "shell.execute_reply": "2023-01-06T02:13:37.478214Z"
    },
    "papermill": {
     "duration": 0.340686,
     "end_time": "2023-01-06T02:13:37.481001",
     "exception": false,
     "start_time": "2023-01-06T02:13:37.140315",
     "status": "completed"
    },
    "tags": []
   },
   "outputs": [
    {
     "data": {
      "image/png": "[encoded data removed]",
      "text/plain": [
       "<Figure size 432x288 with 1 Axes>"
      ]
     },
     "metadata": {
      "needs_background": "light"
     },
     "output_type": "display_data"
    },
    {
     "data": {
      "image/png": "[encoded data removed]",
      "text/plain": [
       "<Figure size 432x288 with 1 Axes>"
      ]
     },
     "metadata": {
      "needs_background": "light"
     },
     "output_type": "display_data"
    }
   ],
   "source": [
    "import matplotlib.pyplot as plt\n",
    "import numpy as np\n",
    "\n",
    "plt.scatter(range(len(loss_D)), loss_D)\n",
    "plt.show()\n",
    "plt.scatter(range(len(loss_G)), loss_G)\n",
    "plt.show()"
   ]
  },
  {
   "cell_type": "markdown",
   "id": "bd8de1e6",
   "metadata": {
    "papermill": {
     "duration": 0.003923,
     "end_time": "2023-01-06T02:13:37.489232",
     "exception": false,
     "start_time": "2023-01-06T02:13:37.485309",
     "status": "completed"
    },
    "tags": []
   },
   "source": [
    "# Evaluation model"
   ]
  },
  {
   "cell_type": "code",
   "execution_count": 10,
   "id": "80b960f1",
   "metadata": {
    "execution": {
     "iopub.execute_input": "2023-01-06T02:13:37.499717Z",
     "iopub.status.busy": "2023-01-06T02:13:37.499083Z",
     "iopub.status.idle": "2023-01-06T02:13:37.503811Z",
     "shell.execute_reply": "2023-01-06T02:13:37.503150Z"
    },
    "papermill": {
     "duration": 0.013,
     "end_time": "2023-01-06T02:13:37.506287",
     "exception": false,
     "start_time": "2023-01-06T02:13:37.493287",
     "status": "completed"
    },
    "tags": []
   },
   "outputs": [],
   "source": [
    "latent_space_samples = torch.randn(32, 43)\n",
    "generated_samples = generator(latent_space_samples)"
   ]
  },
  {
   "cell_type": "code",
   "execution_count": 11,
   "id": "cd313667",
   "metadata": {
    "execution": {
     "iopub.execute_input": "2023-01-06T02:13:37.518167Z",
     "iopub.status.busy": "2023-01-06T02:13:37.517676Z",
     "iopub.status.idle": "2023-01-06T02:13:37.618570Z",
     "shell.execute_reply": "2023-01-06T02:13:37.616821Z"
    },
    "papermill": {
     "duration": 0.110602,
     "end_time": "2023-01-06T02:13:37.621776",
     "exception": false,
     "start_time": "2023-01-06T02:13:37.511174",
     "status": "completed"
    },
    "tags": []
   },
   "outputs": [
    {
     "name": "stdout",
     "output_type": "stream",
     "text": [
      "              precision    recall  f1-score   support\n",
      "\n",
      "         0.0       0.47      0.47      0.47        32\n",
      "         1.0       0.47      0.47      0.47        32\n",
      "\n",
      "    accuracy                           0.47        64\n",
      "   macro avg       0.47      0.47      0.47        64\n",
      "weighted avg       0.47      0.47      0.47        64\n",
      "\n"
     ]
    }
   ],
   "source": [
    "data_test = torch.cat((generated_samples, dataset_tensor))\n",
    "pred = (discriminator(data_test)).detach().numpy()\n",
    "pred_label = []\n",
    "for i in pred:\n",
    "    if i < 0.5:\n",
    "        pred_label.append(0)\n",
    "    if i >= 0.5:\n",
    "        pred_label.append(1)\n",
    "real = torch.cat((torch.zeros((32, 1)), torch.ones((32, 1))))\n",
    "\n",
    "from sklearn.metrics import classification_report\n",
    "print(classification_report(real.detach().numpy(),pred_label))"
   ]
  }
 ],
 "metadata": {
  "kernelspec": {
   "display_name": "Python 3",
   "language": "python",
   "name": "python3"
  },
  "language_info": {
   "codemirror_mode": {
    "name": "ipython",
    "version": 3
   },
   "file_extension": ".py",
   "mimetype": "text/x-python",
   "name": "python",
   "nbconvert_exporter": "python",
   "pygments_lexer": "ipython3",
   "version": "3.7.12"
  },
  "papermill": {
   "default_parameters": {},
   "duration": 19.59469,
   "end_time": "2023-01-06T02:13:38.853144",
   "environment_variables": {},
   "exception": null,
   "input_path": "__notebook__.ipynb",
   "output_path": "__notebook__.ipynb",
   "parameters": {},
   "start_time": "2023-01-06T02:13:19.258454",
   "version": "2.3.4"
  }
 },
 "nbformat": 4,
 "nbformat_minor": 5
}
